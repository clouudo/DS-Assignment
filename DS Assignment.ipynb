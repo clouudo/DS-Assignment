{
 "cells": [
  {
   "cell_type": "markdown",
   "id": "2aa27094-6c58-4424-be4b-642e697126e5",
   "metadata": {},
   "source": [
    "# **Business Understanding**\n",
    "\n",
    "**Objective** <br>\n",
    "The primary objective of this project is to develop a robust machine learning model capable of accurately detecting fraudulent financial transactions. By leveraging realistic synthetic transaction data, the goal is to build a model that distinguishes between legitimate and fraudulent transactions. This will enable companies to proactively mitigate financial losses, reduce fraud-related risks, and enhance customer trust.\n",
    "\n",
    "Can we accurately detect fraudulent transactions with lowest minimum amount of error?\n"
   ]
  },
  {
   "cell_type": "markdown",
   "id": "05b7369c-cb36-4518-895d-883fc7b996eb",
   "metadata": {},
   "source": [
    "# **Data Understanding**"
   ]
  },
  {
   "cell_type": "markdown",
   "id": "5480f5e5-d3b8-4ae4-bbf8-0a56c4cb5d3c",
   "metadata": {},
   "source": [
    "**Describe Data**"
   ]
  },
  {
   "cell_type": "code",
   "execution_count": 2,
   "id": "e9e3e371-58e7-488c-bb24-dc8a87658525",
   "metadata": {},
   "outputs": [],
   "source": [
    "import pandas as pd\n",
    "import matplotlib.pyplot as plt\n",
    "import seaborn as sns\n",
    "\n",
    "# Load the CSV file\n",
    "df = pd.read_csv('/Users/yeohmantik/Documents/Data Science/DS Assignment/synthetic_fraud_dataset.csv')"
   ]
  },
  {
   "cell_type": "markdown",
   "id": "8caeafe0-ae08-4426-bfee-37865da584b0",
   "metadata": {},
   "source": [
    "Initial Data Inspection"
   ]
  },
  {
   "cell_type": "markdown",
   "id": "e74f3151-710c-4b76-9099-cbe872499c83",
   "metadata": {},
   "source": [
    "View first 5 rows"
   ]
  },
  {
   "cell_type": "code",
   "execution_count": 3,
   "id": "968dd0d7-610f-43d1-9d33-34de9e26db49",
   "metadata": {
    "scrolled": true
   },
   "outputs": [
    {
     "name": "stdout",
     "output_type": "stream",
     "text": [
      "  Transaction_ID    User_ID  Transaction_Amount Transaction_Type  \\\n",
      "0      TXN_33553  USER_1834               39.79              POS   \n",
      "1       TXN_9427  USER_7875                1.19    Bank Transfer   \n",
      "2        TXN_199  USER_2734               28.96           Online   \n",
      "3      TXN_12447  USER_2617              254.32   ATM Withdrawal   \n",
      "4      TXN_39489  USER_2014               31.28              POS   \n",
      "\n",
      "             Timestamp  Account_Balance Device_Type  Location  \\\n",
      "0  2023-08-14 19:30:00         93213.17      Laptop    Sydney   \n",
      "1  2023-06-07 04:01:00         75725.25      Mobile  New York   \n",
      "2  2023-06-20 15:25:00          1588.96      Tablet    Mumbai   \n",
      "3  2023-12-07 00:31:00         76807.20      Tablet  New York   \n",
      "4  2023-11-11 23:44:00         92354.66      Mobile    Mumbai   \n",
      "\n",
      "  Merchant_Category  IP_Address_Flag  ...  Daily_Transaction_Count  \\\n",
      "0            Travel                0  ...                        7   \n",
      "1          Clothing                0  ...                       13   \n",
      "2       Restaurants                0  ...                       14   \n",
      "3          Clothing                0  ...                        8   \n",
      "4       Electronics                0  ...                       14   \n",
      "\n",
      "   Avg_Transaction_Amount_7d  Failed_Transaction_Count_7d   Card_Type  \\\n",
      "0                     437.63                            3        Amex   \n",
      "1                     478.76                            4  Mastercard   \n",
      "2                      50.01                            4        Visa   \n",
      "3                     182.48                            4        Visa   \n",
      "4                     328.69                            4  Mastercard   \n",
      "\n",
      "  Card_Age  Transaction_Distance  Authentication_Method Risk_Score  \\\n",
      "0       65                883.17              Biometric     0.8494   \n",
      "1      186               2203.36               Password     0.0959   \n",
      "2      226               1909.29              Biometric     0.8400   \n",
      "3       76               1311.86                    OTP     0.7935   \n",
      "4      140                966.98               Password     0.3819   \n",
      "\n",
      "   Is_Weekend  Fraud_Label  \n",
      "0           0            0  \n",
      "1           0            1  \n",
      "2           0            1  \n",
      "3           0            1  \n",
      "4           1            1  \n",
      "\n",
      "[5 rows x 21 columns]\n"
     ]
    }
   ],
   "source": [
    "print(df.head())"
   ]
  },
  {
   "cell_type": "code",
   "execution_count": null,
   "id": "881924b5-8a0b-4639-b9dd-645f25e973a9",
   "metadata": {},
   "outputs": [
    {
     "data": {
      "text/html": [
       "<div>\n",
       "<style scoped>\n",
       "    .dataframe tbody tr th:only-of-type {\n",
       "        vertical-align: middle;\n",
       "    }\n",
       "\n",
       "    .dataframe tbody tr th {\n",
       "        vertical-align: top;\n",
       "    }\n",
       "\n",
       "    .dataframe thead th {\n",
       "        text-align: right;\n",
       "    }\n",
       "</style>\n",
       "<table border=\"1\" class=\"dataframe\">\n",
       "  <thead>\n",
       "    <tr style=\"text-align: right;\">\n",
       "      <th></th>\n",
       "      <th>Transaction_ID</th>\n",
       "      <th>User_ID</th>\n",
       "      <th>Transaction_Amount</th>\n",
       "      <th>Transaction_Type</th>\n",
       "      <th>Timestamp</th>\n",
       "      <th>Account_Balance</th>\n",
       "      <th>Device_Type</th>\n",
       "      <th>Location</th>\n",
       "      <th>Merchant_Category</th>\n",
       "      <th>IP_Address_Flag</th>\n",
       "      <th>...</th>\n",
       "      <th>Daily_Transaction_Count</th>\n",
       "      <th>Avg_Transaction_Amount_7d</th>\n",
       "      <th>Failed_Transaction_Count_7d</th>\n",
       "      <th>Card_Type</th>\n",
       "      <th>Card_Age</th>\n",
       "      <th>Transaction_Distance</th>\n",
       "      <th>Authentication_Method</th>\n",
       "      <th>Risk_Score</th>\n",
       "      <th>Is_Weekend</th>\n",
       "      <th>Fraud_Label</th>\n",
       "    </tr>\n",
       "  </thead>\n",
       "  <tbody>\n",
       "    <tr>\n",
       "      <th>0</th>\n",
       "      <td>TXN_33553</td>\n",
       "      <td>USER_1834</td>\n",
       "      <td>39.79</td>\n",
       "      <td>POS</td>\n",
       "      <td>2023-08-14 19:30:00</td>\n",
       "      <td>93213.17</td>\n",
       "      <td>Laptop</td>\n",
       "      <td>Sydney</td>\n",
       "      <td>Travel</td>\n",
       "      <td>0</td>\n",
       "      <td>...</td>\n",
       "      <td>7</td>\n",
       "      <td>437.63</td>\n",
       "      <td>3</td>\n",
       "      <td>Amex</td>\n",
       "      <td>65</td>\n",
       "      <td>883.17</td>\n",
       "      <td>Biometric</td>\n",
       "      <td>0.8494</td>\n",
       "      <td>0</td>\n",
       "      <td>0</td>\n",
       "    </tr>\n",
       "    <tr>\n",
       "      <th>1</th>\n",
       "      <td>TXN_9427</td>\n",
       "      <td>USER_7875</td>\n",
       "      <td>1.19</td>\n",
       "      <td>Bank Transfer</td>\n",
       "      <td>2023-06-07 04:01:00</td>\n",
       "      <td>75725.25</td>\n",
       "      <td>Mobile</td>\n",
       "      <td>New York</td>\n",
       "      <td>Clothing</td>\n",
       "      <td>0</td>\n",
       "      <td>...</td>\n",
       "      <td>13</td>\n",
       "      <td>478.76</td>\n",
       "      <td>4</td>\n",
       "      <td>Mastercard</td>\n",
       "      <td>186</td>\n",
       "      <td>2203.36</td>\n",
       "      <td>Password</td>\n",
       "      <td>0.0959</td>\n",
       "      <td>0</td>\n",
       "      <td>1</td>\n",
       "    </tr>\n",
       "    <tr>\n",
       "      <th>2</th>\n",
       "      <td>TXN_199</td>\n",
       "      <td>USER_2734</td>\n",
       "      <td>28.96</td>\n",
       "      <td>Online</td>\n",
       "      <td>2023-06-20 15:25:00</td>\n",
       "      <td>1588.96</td>\n",
       "      <td>Tablet</td>\n",
       "      <td>Mumbai</td>\n",
       "      <td>Restaurants</td>\n",
       "      <td>0</td>\n",
       "      <td>...</td>\n",
       "      <td>14</td>\n",
       "      <td>50.01</td>\n",
       "      <td>4</td>\n",
       "      <td>Visa</td>\n",
       "      <td>226</td>\n",
       "      <td>1909.29</td>\n",
       "      <td>Biometric</td>\n",
       "      <td>0.8400</td>\n",
       "      <td>0</td>\n",
       "      <td>1</td>\n",
       "    </tr>\n",
       "    <tr>\n",
       "      <th>3</th>\n",
       "      <td>TXN_12447</td>\n",
       "      <td>USER_2617</td>\n",
       "      <td>254.32</td>\n",
       "      <td>ATM Withdrawal</td>\n",
       "      <td>2023-12-07 00:31:00</td>\n",
       "      <td>76807.20</td>\n",
       "      <td>Tablet</td>\n",
       "      <td>New York</td>\n",
       "      <td>Clothing</td>\n",
       "      <td>0</td>\n",
       "      <td>...</td>\n",
       "      <td>8</td>\n",
       "      <td>182.48</td>\n",
       "      <td>4</td>\n",
       "      <td>Visa</td>\n",
       "      <td>76</td>\n",
       "      <td>1311.86</td>\n",
       "      <td>OTP</td>\n",
       "      <td>0.7935</td>\n",
       "      <td>0</td>\n",
       "      <td>1</td>\n",
       "    </tr>\n",
       "    <tr>\n",
       "      <th>4</th>\n",
       "      <td>TXN_39489</td>\n",
       "      <td>USER_2014</td>\n",
       "      <td>31.28</td>\n",
       "      <td>POS</td>\n",
       "      <td>2023-11-11 23:44:00</td>\n",
       "      <td>92354.66</td>\n",
       "      <td>Mobile</td>\n",
       "      <td>Mumbai</td>\n",
       "      <td>Electronics</td>\n",
       "      <td>0</td>\n",
       "      <td>...</td>\n",
       "      <td>14</td>\n",
       "      <td>328.69</td>\n",
       "      <td>4</td>\n",
       "      <td>Mastercard</td>\n",
       "      <td>140</td>\n",
       "      <td>966.98</td>\n",
       "      <td>Password</td>\n",
       "      <td>0.3819</td>\n",
       "      <td>1</td>\n",
       "      <td>1</td>\n",
       "    </tr>\n",
       "  </tbody>\n",
       "</table>\n",
       "<p>5 rows × 21 columns</p>\n",
       "</div>"
      ],
      "text/plain": [
       "  Transaction_ID    User_ID  Transaction_Amount Transaction_Type  \\\n",
       "0      TXN_33553  USER_1834               39.79              POS   \n",
       "1       TXN_9427  USER_7875                1.19    Bank Transfer   \n",
       "2        TXN_199  USER_2734               28.96           Online   \n",
       "3      TXN_12447  USER_2617              254.32   ATM Withdrawal   \n",
       "4      TXN_39489  USER_2014               31.28              POS   \n",
       "\n",
       "             Timestamp  Account_Balance Device_Type  Location  \\\n",
       "0  2023-08-14 19:30:00         93213.17      Laptop    Sydney   \n",
       "1  2023-06-07 04:01:00         75725.25      Mobile  New York   \n",
       "2  2023-06-20 15:25:00          1588.96      Tablet    Mumbai   \n",
       "3  2023-12-07 00:31:00         76807.20      Tablet  New York   \n",
       "4  2023-11-11 23:44:00         92354.66      Mobile    Mumbai   \n",
       "\n",
       "  Merchant_Category  IP_Address_Flag  ...  Daily_Transaction_Count  \\\n",
       "0            Travel                0  ...                        7   \n",
       "1          Clothing                0  ...                       13   \n",
       "2       Restaurants                0  ...                       14   \n",
       "3          Clothing                0  ...                        8   \n",
       "4       Electronics                0  ...                       14   \n",
       "\n",
       "   Avg_Transaction_Amount_7d  Failed_Transaction_Count_7d   Card_Type  \\\n",
       "0                     437.63                            3        Amex   \n",
       "1                     478.76                            4  Mastercard   \n",
       "2                      50.01                            4        Visa   \n",
       "3                     182.48                            4        Visa   \n",
       "4                     328.69                            4  Mastercard   \n",
       "\n",
       "  Card_Age  Transaction_Distance  Authentication_Method Risk_Score  \\\n",
       "0       65                883.17              Biometric     0.8494   \n",
       "1      186               2203.36               Password     0.0959   \n",
       "2      226               1909.29              Biometric     0.8400   \n",
       "3       76               1311.86                    OTP     0.7935   \n",
       "4      140                966.98               Password     0.3819   \n",
       "\n",
       "   Is_Weekend  Fraud_Label  \n",
       "0           0            0  \n",
       "1           0            1  \n",
       "2           0            1  \n",
       "3           0            1  \n",
       "4           1            1  \n",
       "\n",
       "[5 rows x 21 columns]"
      ]
     },
     "execution_count": 4,
     "metadata": {},
     "output_type": "execute_result"
    }
   ],
   "source": [
    "df.head(5)"
   ]
  },
  {
   "cell_type": "markdown",
   "id": "b164875e-9d3c-42c0-b0d8-b2f5fa02ff41",
   "metadata": {},
   "source": [
    "View the dimension of our dataset (50000 rows and 21 columns)"
   ]
  },
  {
   "cell_type": "code",
   "execution_count": null,
   "id": "81db033b-2e9c-4285-b11f-8e9838fc0724",
   "metadata": {
    "scrolled": true
   },
   "outputs": [
    {
     "name": "stdout",
     "output_type": "stream",
     "text": [
      "Shape: (50000, 21)\n"
     ]
    }
   ],
   "source": [
    "print(\"Shape:\", df.shape)"
   ]
  },
  {
   "cell_type": "markdown",
   "id": "450b494b-0014-48d2-ac4e-9cbd6138205e",
   "metadata": {},
   "source": [
    "View the dataset info such as data type, and non-null counts\n",
    "\n",
    "**Object type** <br>\n",
    "\"Transaction_ID\", \"User_ID\", \"Transaction_Type\", \"Timestamp\", \"Device_Type\", \"Location\", \"Merchant_Category\", \"Card_Type\", \"Authentication Method\"\n",
    "\n",
    "**Float type** <br>\n",
    "\"Transaction_Amount\", \"Account_Balance\", \"Avg_Transaction_Amount_7d\", \"Transaction_Distance\", \"Risk_Score\"\n",
    "\n",
    "**Integer type** <br>\n",
    "\"IP_Address_Flag\", \"Previous_Fraudulent_Activity\", \"Daily_Transaction_Count\"\n",
    "\n",
    "**Categorical** <br>\n",
    "Nominal values: \"Transaction_Type\", \"Location\", \"Device_Type\", \"Merchant_Category\", \"Card_Type\", \"Authentication Method\"\n",
    "\n",
    "**Numerical/Continuous** <br>\n",
    "\"Transaction_Amount\", \"Account_Balance\", \"Daily_Transaction_Count\", \"Avg_Transaction_Amount_7d\", \"Failed_Transaction_Count_7d\", \"Card_Age\", \"Transaction_Distance\", \"Risk_Score\""
   ]
  },
  {
   "cell_type": "code",
   "execution_count": null,
   "id": "b633ef43-34d5-4250-b78c-7416ef20d2b1",
   "metadata": {
    "scrolled": true
   },
   "outputs": [
    {
     "name": "stdout",
     "output_type": "stream",
     "text": [
      "<class 'pandas.core.frame.DataFrame'>\n",
      "RangeIndex: 50000 entries, 0 to 49999\n",
      "Data columns (total 21 columns):\n",
      " #   Column                        Non-Null Count  Dtype  \n",
      "---  ------                        --------------  -----  \n",
      " 0   Transaction_ID                50000 non-null  object \n",
      " 1   User_ID                       50000 non-null  object \n",
      " 2   Transaction_Amount            50000 non-null  float64\n",
      " 3   Transaction_Type              50000 non-null  object \n",
      " 4   Timestamp                     50000 non-null  object \n",
      " 5   Account_Balance               50000 non-null  float64\n",
      " 6   Device_Type                   50000 non-null  object \n",
      " 7   Location                      50000 non-null  object \n",
      " 8   Merchant_Category             50000 non-null  object \n",
      " 9   IP_Address_Flag               50000 non-null  int64  \n",
      " 10  Previous_Fraudulent_Activity  50000 non-null  int64  \n",
      " 11  Daily_Transaction_Count       50000 non-null  int64  \n",
      " 12  Avg_Transaction_Amount_7d     50000 non-null  float64\n",
      " 13  Failed_Transaction_Count_7d   50000 non-null  int64  \n",
      " 14  Card_Type                     50000 non-null  object \n",
      " 15  Card_Age                      50000 non-null  int64  \n",
      " 16  Transaction_Distance          50000 non-null  float64\n",
      " 17  Authentication_Method         50000 non-null  object \n",
      " 18  Risk_Score                    50000 non-null  float64\n",
      " 19  Is_Weekend                    50000 non-null  int64  \n",
      " 20  Fraud_Label                   50000 non-null  int64  \n",
      "dtypes: float64(5), int64(7), object(9)\n",
      "memory usage: 8.0+ MB\n",
      "None\n"
     ]
    }
   ],
   "source": [
    "print(df.info())"
   ]
  },
  {
   "cell_type": "markdown",
   "id": "20916bb7-ccd5-41fc-a3be-67f89062c954",
   "metadata": {},
   "source": [
    "Summary statistics for numerical columns"
   ]
  },
  {
   "cell_type": "code",
   "execution_count": null,
   "id": "9a434293-3aeb-4f09-80c4-34b3a329b90c",
   "metadata": {
    "scrolled": true
   },
   "outputs": [
    {
     "name": "stdout",
     "output_type": "stream",
     "text": [
      "       Transaction_Amount  Account_Balance  IP_Address_Flag  \\\n",
      "count        50000.000000     50000.000000      50000.00000   \n",
      "mean            99.411012     50294.065981          0.05020   \n",
      "std             98.687292     28760.458557          0.21836   \n",
      "min              0.000000       500.480000          0.00000   \n",
      "25%             28.677500     25355.995000          0.00000   \n",
      "50%             69.660000     50384.430000          0.00000   \n",
      "75%            138.852500     75115.135000          0.00000   \n",
      "max           1174.140000     99998.310000          1.00000   \n",
      "\n",
      "       Previous_Fraudulent_Activity  Daily_Transaction_Count  \\\n",
      "count                  50000.000000             50000.000000   \n",
      "mean                       0.098400                 7.485240   \n",
      "std                        0.297858                 4.039637   \n",
      "min                        0.000000                 1.000000   \n",
      "25%                        0.000000                 4.000000   \n",
      "50%                        0.000000                 7.000000   \n",
      "75%                        0.000000                11.000000   \n",
      "max                        1.000000                14.000000   \n",
      "\n",
      "       Avg_Transaction_Amount_7d  Failed_Transaction_Count_7d      Card_Age  \\\n",
      "count               50000.000000                 50000.000000  50000.000000   \n",
      "mean                  255.271924                     2.003540    119.999940   \n",
      "std                   141.382279                     1.414273     68.985817   \n",
      "min                    10.000000                     0.000000      1.000000   \n",
      "25%                   132.087500                     1.000000     60.000000   \n",
      "50%                   256.085000                     2.000000    120.000000   \n",
      "75%                   378.032500                     3.000000    180.000000   \n",
      "max                   500.000000                     4.000000    239.000000   \n",
      "\n",
      "       Transaction_Distance    Risk_Score    Is_Weekend   Fraud_Label  \n",
      "count          50000.000000  50000.000000  50000.000000  50000.000000  \n",
      "mean            2499.164155      0.501556      0.299640      0.321340  \n",
      "std             1442.013834      0.287774      0.458105      0.466996  \n",
      "min                0.250000      0.000100      0.000000      0.000000  \n",
      "25%             1256.497500      0.254000      0.000000      0.000000  \n",
      "50%             2490.785000      0.502250      0.000000      0.000000  \n",
      "75%             3746.395000      0.749525      1.000000      1.000000  \n",
      "max             4999.930000      1.000000      1.000000      1.000000  \n"
     ]
    }
   ],
   "source": [
    "print(df.describe())"
   ]
  },
  {
   "cell_type": "markdown",
   "id": "71f7ce5e-cbc3-4026-8dce-b222ca45d845",
   "metadata": {},
   "source": [
    "Summary for categorical columns"
   ]
  },
  {
   "cell_type": "code",
   "execution_count": null,
   "id": "1e671c7a-0c9a-4992-a229-121a259684ae",
   "metadata": {},
   "outputs": [
    {
     "name": "stdout",
     "output_type": "stream",
     "text": [
      "       Transaction_ID    User_ID Transaction_Type            Timestamp  \\\n",
      "count           50000      50000            50000                50000   \n",
      "unique          50000       8963                4                47724   \n",
      "top         TXN_33553  USER_6599              POS  2023-06-04 06:35:00   \n",
      "freq                1         16            12549                    4   \n",
      "\n",
      "       Device_Type Location Merchant_Category   Card_Type  \\\n",
      "count        50000    50000             50000       50000   \n",
      "unique           3        5                 5           4   \n",
      "top         Tablet    Tokyo          Clothing  Mastercard   \n",
      "freq         16779    10208             10033       12693   \n",
      "\n",
      "       Authentication_Method  \n",
      "count                  50000  \n",
      "unique                     4  \n",
      "top                Biometric  \n",
      "freq                   12591  \n"
     ]
    }
   ],
   "source": [
    "print(df.describe(include='object'))"
   ]
  },
  {
   "cell_type": "markdown",
   "id": "71b8fb71-bfc3-4e02-81a9-a51b4f9df911",
   "metadata": {},
   "source": [
    "**Check for missing values** <br>\n",
    "No missing values in this dataset"
   ]
  },
  {
   "cell_type": "code",
   "execution_count": null,
   "id": "5b0d94f2-8039-44dd-bb46-b97cca9b5b62",
   "metadata": {
    "scrolled": true
   },
   "outputs": [
    {
     "name": "stdout",
     "output_type": "stream",
     "text": [
      "Transaction_ID                  0\n",
      "User_ID                         0\n",
      "Transaction_Amount              0\n",
      "Transaction_Type                0\n",
      "Timestamp                       0\n",
      "Account_Balance                 0\n",
      "Device_Type                     0\n",
      "Location                        0\n",
      "Merchant_Category               0\n",
      "IP_Address_Flag                 0\n",
      "Previous_Fraudulent_Activity    0\n",
      "Daily_Transaction_Count         0\n",
      "Avg_Transaction_Amount_7d       0\n",
      "Failed_Transaction_Count_7d     0\n",
      "Card_Type                       0\n",
      "Card_Age                        0\n",
      "Transaction_Distance            0\n",
      "Authentication_Method           0\n",
      "Risk_Score                      0\n",
      "Is_Weekend                      0\n",
      "Fraud_Label                     0\n",
      "dtype: int64\n"
     ]
    }
   ],
   "source": [
    "print(df.isnull().sum())"
   ]
  },
  {
   "cell_type": "markdown",
   "id": "18848d15-6cce-47ac-9676-e1e51fe71a19",
   "metadata": {},
   "source": [
    "**Target Variable Distribution** <br>\n",
    "There are more non-fraud (0) data identified compared to fraud (1) transactions.\n"
   ]
  },
  {
   "cell_type": "code",
   "execution_count": null,
   "id": "08cade7e-f0b6-4ea5-9378-71cf48bfee8d",
   "metadata": {
    "scrolled": true
   },
   "outputs": [
    {
     "name": "stdout",
     "output_type": "stream",
     "text": [
      "Fraud_Label\n",
      "0    33933\n",
      "1    16067\n",
      "Name: count, dtype: int64\n",
      "Fraud_Label\n",
      "0    67.866\n",
      "1    32.134\n",
      "Name: proportion, dtype: float64\n"
     ]
    }
   ],
   "source": [
    "fraud_counts = df['Fraud_Label'].value_counts()\n",
    "\n",
    "print(fraud_counts)\n",
    "\n",
    "fraud_percentage = df['Fraud_Label'].value_counts(normalize=True) * 100\n",
    "print(fraud_percentage)"
   ]
  },
  {
   "cell_type": "markdown",
   "id": "f97f6b7d-b0b0-46be-8500-d851126e7da8",
   "metadata": {},
   "source": [
    "Plot a graph to visualize the comparison of non-fraud and fraud"
   ]
  },
  {
   "cell_type": "code",
   "execution_count": null,
   "id": "f52facd2-9792-4e3d-b5c0-b9782220f6e3",
   "metadata": {
    "scrolled": false
   },
   "outputs": [
    {
     "name": "stdout",
     "output_type": "stream",
     "text": [
      "Fraud_Label\n",
      "0    33933\n",
      "1    16067\n",
      "Name: count, dtype: int64\n"
     ]
    },
    {
     "data": {
      "image/png": "[encoded data removed]",
      "text/plain": [
       "<Figure size 640x480 with 1 Axes>"
      ]
     },
     "metadata": {},
     "output_type": "display_data"
    }
   ],
   "source": [
    "print(df['Fraud_Label'].value_counts())\n",
    "\n",
    "sns.countplot(x='Fraud_Label', data=df)\n",
    "plt.title('Non-Fraud vs Fraud Transactions')\n",
    "plt.show()"
   ]
  },
  {
   "cell_type": "markdown",
   "id": "459e5743-8830-443d-9618-9c848db9f853",
   "metadata": {},
   "source": [
    "Check for duplicates\n",
    "has no duplication case in this dataset"
   ]
  },
  {
   "cell_type": "markdown",
   "id": "43b3e84f",
   "metadata": {},
   "source": [
    "Distribution of Account_Balance, as we can see we can determine the distribution by using the mean (average) of it."
   ]
  },
  {
   "cell_type": "code",
   "execution_count": null,
   "id": "41f5ea3c",
   "metadata": {},
   "outputs": [
    {
     "name": "stdout",
     "output_type": "stream",
     "text": [
      "Balance_Label\n",
      "Normal    28834\n",
      "High      10595\n",
      "Low       10571\n",
      "Name: count, dtype: int64\n",
      "\n",
      "\n",
      "Balance_Label\n",
      "Normal    57.668\n",
      "High      21.190\n",
      "Low       21.142\n",
      "Name: proportion, dtype: float64\n",
      "\n",
      "\n",
      "Thresholds using Z-score:\n",
      "Low: < 21533.60742354826\n",
      "Normal: 21533.60742354826 to 79054.52453805174\n",
      "High: > 79054.52453805174\n"
     ]
    }
   ],
   "source": [
    "mean = df['Account_Balance'].mean()\n",
    "std = df['Account_Balance'].std()\n",
    "\n",
    "df['Z_Score'] = (df['Account_Balance'] - mean) / std\n",
    "\n",
    "def z_score_label(z):\n",
    "    if z < -1:\n",
    "        return 'Low'\n",
    "    elif z > 1:\n",
    "        return 'High'\n",
    "    else:\n",
    "        return 'Normal'\n",
    "\n",
    "df['Balance_Label'] = df['Z_Score'].apply(z_score_label)\n",
    "\n",
    "\n",
    "print(df['Balance_Label'].value_counts())\n",
    "print(\"\\n\")\n",
    "print(df['Balance_Label'].value_counts(normalize=True) * 100)\n",
    "\n",
    "mean = df['Account_Balance'].mean()\n",
    "std = df['Account_Balance'].std()\n",
    "\n",
    "low_threshold = mean - std\n",
    "high_threshold = mean + std\n",
    "\n",
    "print(\"\\n\")\n",
    "print(\"Thresholds using Z-score:\")\n",
    "print(f\"Low: < {low_threshold}\")\n",
    "print(f\"Normal: {low_threshold} to {high_threshold}\")\n",
    "print(f\"High: > {high_threshold}\")"
   ]
  },
  {
   "cell_type": "markdown",
   "id": "f658f01a",
   "metadata": {},
   "source": [
    "We can determine that criteria for low balance is below 21533, criteria for normal balance is between 21533 and 79054 and criteria for high balance is above 79054.\n",
    "\n",
    "The distribution for respective balance category is 57.67 (normal), 21.19 (high) and 21.14 (low)"
   ]
  },
  {
   "cell_type": "markdown",
   "id": "a46c42e3",
   "metadata": {},
   "source": [
    "Check for number of duplicated user ID"
   ]
  },
  {
   "cell_type": "code",
   "execution_count": null,
   "id": "7672ed6e-1378-4ef4-a196-ecfa8debc06b",
   "metadata": {
    "scrolled": true
   },
   "outputs": [
    {
     "name": "stdout",
     "output_type": "stream",
     "text": [
      "Number of duplicated User_IDs: 41037\n"
     ]
    }
   ],
   "source": [
    "duplicate_count = df['User_ID'].duplicated().sum()\n",
    "print(f\"Number of duplicated User_IDs: {duplicate_count}\")"
   ]
  },
  {
   "cell_type": "code",
   "execution_count": null,
   "id": "346e4f95",
   "metadata": {
    "scrolled": true
   },
   "outputs": [
    {
     "data": {
      "text/html": [
       "<div>\n",
       "<style scoped>\n",
       "    .dataframe tbody tr th:only-of-type {\n",
       "        vertical-align: middle;\n",
       "    }\n",
       "\n",
       "    .dataframe tbody tr th {\n",
       "        vertical-align: top;\n",
       "    }\n",
       "\n",
       "    .dataframe thead th {\n",
       "        text-align: right;\n",
       "    }\n",
       "</style>\n",
       "<table border=\"1\" class=\"dataframe\">\n",
       "  <thead>\n",
       "    <tr style=\"text-align: right;\">\n",
       "      <th></th>\n",
       "      <th>Transaction_ID</th>\n",
       "      <th>User_ID</th>\n",
       "      <th>Transaction_Amount</th>\n",
       "      <th>Transaction_Type</th>\n",
       "      <th>Timestamp</th>\n",
       "      <th>Account_Balance</th>\n",
       "      <th>Device_Type</th>\n",
       "      <th>Location</th>\n",
       "      <th>Merchant_Category</th>\n",
       "      <th>IP_Address_Flag</th>\n",
       "      <th>...</th>\n",
       "      <th>Failed_Transaction_Count_7d</th>\n",
       "      <th>Card_Type</th>\n",
       "      <th>Card_Age</th>\n",
       "      <th>Transaction_Distance</th>\n",
       "      <th>Authentication_Method</th>\n",
       "      <th>Risk_Score</th>\n",
       "      <th>Is_Weekend</th>\n",
       "      <th>Fraud_Label</th>\n",
       "      <th>Balance_Label</th>\n",
       "      <th>Z_Score</th>\n",
       "    </tr>\n",
       "  </thead>\n",
       "  <tbody>\n",
       "    <tr>\n",
       "      <th>21475</th>\n",
       "      <td>TXN_13680</td>\n",
       "      <td>USER_1000</td>\n",
       "      <td>383.60</td>\n",
       "      <td>Bank Transfer</td>\n",
       "      <td>2023-10-29 03:47:00</td>\n",
       "      <td>53558.88</td>\n",
       "      <td>Laptop</td>\n",
       "      <td>Mumbai</td>\n",
       "      <td>Clothing</td>\n",
       "      <td>0</td>\n",
       "      <td>...</td>\n",
       "      <td>1</td>\n",
       "      <td>Amex</td>\n",
       "      <td>3</td>\n",
       "      <td>567.59</td>\n",
       "      <td>OTP</td>\n",
       "      <td>0.1279</td>\n",
       "      <td>0</td>\n",
       "      <td>0</td>\n",
       "      <td>Normal</td>\n",
       "      <td>0.113517</td>\n",
       "    </tr>\n",
       "    <tr>\n",
       "      <th>13089</th>\n",
       "      <td>TXN_40117</td>\n",
       "      <td>USER_1000</td>\n",
       "      <td>64.78</td>\n",
       "      <td>Online</td>\n",
       "      <td>2023-09-01 20:09:00</td>\n",
       "      <td>25291.69</td>\n",
       "      <td>Tablet</td>\n",
       "      <td>London</td>\n",
       "      <td>Clothing</td>\n",
       "      <td>0</td>\n",
       "      <td>...</td>\n",
       "      <td>2</td>\n",
       "      <td>Discover</td>\n",
       "      <td>133</td>\n",
       "      <td>2042.18</td>\n",
       "      <td>Password</td>\n",
       "      <td>0.9632</td>\n",
       "      <td>1</td>\n",
       "      <td>1</td>\n",
       "      <td>Normal</td>\n",
       "      <td>-0.869332</td>\n",
       "    </tr>\n",
       "    <tr>\n",
       "      <th>47834</th>\n",
       "      <td>TXN_36059</td>\n",
       "      <td>USER_1000</td>\n",
       "      <td>69.02</td>\n",
       "      <td>Online</td>\n",
       "      <td>2023-02-21 10:25:00</td>\n",
       "      <td>36077.57</td>\n",
       "      <td>Tablet</td>\n",
       "      <td>London</td>\n",
       "      <td>Groceries</td>\n",
       "      <td>0</td>\n",
       "      <td>...</td>\n",
       "      <td>4</td>\n",
       "      <td>Amex</td>\n",
       "      <td>170</td>\n",
       "      <td>2983.85</td>\n",
       "      <td>Password</td>\n",
       "      <td>0.5529</td>\n",
       "      <td>0</td>\n",
       "      <td>1</td>\n",
       "      <td>Normal</td>\n",
       "      <td>-0.494307</td>\n",
       "    </tr>\n",
       "    <tr>\n",
       "      <th>28102</th>\n",
       "      <td>TXN_28650</td>\n",
       "      <td>USER_1000</td>\n",
       "      <td>191.87</td>\n",
       "      <td>Online</td>\n",
       "      <td>2023-04-26 23:17:00</td>\n",
       "      <td>4201.83</td>\n",
       "      <td>Laptop</td>\n",
       "      <td>Tokyo</td>\n",
       "      <td>Electronics</td>\n",
       "      <td>0</td>\n",
       "      <td>...</td>\n",
       "      <td>2</td>\n",
       "      <td>Discover</td>\n",
       "      <td>14</td>\n",
       "      <td>3616.72</td>\n",
       "      <td>OTP</td>\n",
       "      <td>0.1897</td>\n",
       "      <td>0</td>\n",
       "      <td>0</td>\n",
       "      <td>Low</td>\n",
       "      <td>-1.602625</td>\n",
       "    </tr>\n",
       "    <tr>\n",
       "      <th>41209</th>\n",
       "      <td>TXN_21630</td>\n",
       "      <td>USER_1000</td>\n",
       "      <td>39.41</td>\n",
       "      <td>Bank Transfer</td>\n",
       "      <td>2023-12-03 06:43:00</td>\n",
       "      <td>70995.83</td>\n",
       "      <td>Laptop</td>\n",
       "      <td>Mumbai</td>\n",
       "      <td>Clothing</td>\n",
       "      <td>0</td>\n",
       "      <td>...</td>\n",
       "      <td>1</td>\n",
       "      <td>Visa</td>\n",
       "      <td>73</td>\n",
       "      <td>4851.37</td>\n",
       "      <td>PIN</td>\n",
       "      <td>0.6365</td>\n",
       "      <td>1</td>\n",
       "      <td>0</td>\n",
       "      <td>Normal</td>\n",
       "      <td>0.719800</td>\n",
       "    </tr>\n",
       "  </tbody>\n",
       "</table>\n",
       "<p>5 rows × 23 columns</p>\n",
       "</div>"
      ],
      "text/plain": [
       "      Transaction_ID    User_ID  Transaction_Amount Transaction_Type  \\\n",
       "21475      TXN_13680  USER_1000              383.60    Bank Transfer   \n",
       "13089      TXN_40117  USER_1000               64.78           Online   \n",
       "47834      TXN_36059  USER_1000               69.02           Online   \n",
       "28102      TXN_28650  USER_1000              191.87           Online   \n",
       "41209      TXN_21630  USER_1000               39.41    Bank Transfer   \n",
       "\n",
       "                 Timestamp  Account_Balance Device_Type Location  \\\n",
       "21475  2023-10-29 03:47:00         53558.88      Laptop   Mumbai   \n",
       "13089  2023-09-01 20:09:00         25291.69      Tablet   London   \n",
       "47834  2023-02-21 10:25:00         36077.57      Tablet   London   \n",
       "28102  2023-04-26 23:17:00          4201.83      Laptop    Tokyo   \n",
       "41209  2023-12-03 06:43:00         70995.83      Laptop   Mumbai   \n",
       "\n",
       "      Merchant_Category  IP_Address_Flag  ...  Failed_Transaction_Count_7d  \\\n",
       "21475          Clothing                0  ...                            1   \n",
       "13089          Clothing                0  ...                            2   \n",
       "47834         Groceries                0  ...                            4   \n",
       "28102       Electronics                0  ...                            2   \n",
       "41209          Clothing                0  ...                            1   \n",
       "\n",
       "       Card_Type  Card_Age  Transaction_Distance Authentication_Method  \\\n",
       "21475       Amex         3                567.59                   OTP   \n",
       "13089   Discover       133               2042.18              Password   \n",
       "47834       Amex       170               2983.85              Password   \n",
       "28102   Discover        14               3616.72                   OTP   \n",
       "41209       Visa        73               4851.37                   PIN   \n",
       "\n",
       "       Risk_Score  Is_Weekend Fraud_Label  Balance_Label   Z_Score  \n",
       "21475      0.1279           0           0         Normal  0.113517  \n",
       "13089      0.9632           1           1         Normal -0.869332  \n",
       "47834      0.5529           0           1         Normal -0.494307  \n",
       "28102      0.1897           0           0            Low -1.602625  \n",
       "41209      0.6365           1           0         Normal  0.719800  \n",
       "\n",
       "[5 rows x 23 columns]"
      ]
     },
     "execution_count": 49,
     "metadata": {},
     "output_type": "execute_result"
    }
   ],
   "source": [
    "duplicates_df = df[df['User_ID'].duplicated(keep=False)].sort_values('User_ID')\n",
    "\n",
    "duplicates_df.head()"
   ]
  },
  {
   "cell_type": "markdown",
   "id": "429487da-2697-41d7-89dc-240e911d385d",
   "metadata": {},
   "source": [
    "Check for negative transaction amount (anomaly) <br>\n",
    "None has been found in this dataset"
   ]
  },
  {
   "cell_type": "code",
   "execution_count": 9,
   "id": "4f129192-95da-4a17-a88d-c6b5a4cc9367",
   "metadata": {},
   "outputs": [
    {
     "name": "stdout",
     "output_type": "stream",
     "text": [
      "Negative Transaction Amounts: 0\n"
     ]
    }
   ],
   "source": [
    "negative_amt = df[df['Transaction_Amount'] < 0]\n",
    "print(f\"Negative Transaction Amounts: {len(negative_amt)}\")"
   ]
  },
  {
   "cell_type": "markdown",
   "id": "a34f2726",
   "metadata": {},
   "source": [
    "# **Data Sengmentation**"
   ]
  },
  {
   "cell_type": "markdown",
   "id": "049752ae",
   "metadata": {},
   "source": [
    "*Types of transaction*"
   ]
  },
  {
   "cell_type": "code",
   "execution_count": 5,
   "id": "35773949",
   "metadata": {},
   "outputs": [
    {
     "name": "stdout",
     "output_type": "stream",
     "text": [
      "Transaction Types: ['POS' 'Bank Transfer' 'Online' 'ATM Withdrawal']\n"
     ]
    }
   ],
   "source": [
    "unique_transaction_types = df['Transaction_Type'].unique()\n",
    "print(\"Transaction Types:\", unique_transaction_types)"
   ]
  },
  {
   "cell_type": "markdown",
   "id": "a160ee0d",
   "metadata": {},
   "source": [
    "There are 5 types of transactions in this dataset"
   ]
  },
  {
   "cell_type": "code",
   "execution_count": 6,
   "id": "a3b6b55a",
   "metadata": {},
   "outputs": [
    {
     "name": "stdout",
     "output_type": "stream",
     "text": [
      "Transaction_Type\n",
      "POS               12549\n",
      "Online            12546\n",
      "ATM Withdrawal    12453\n",
      "Bank Transfer     12452\n",
      "Name: count, dtype: int64\n"
     ]
    }
   ],
   "source": [
    "transaction_counts = df['Transaction_Type'].value_counts()\n",
    "print(transaction_counts)"
   ]
  },
  {
   "cell_type": "markdown",
   "id": "a72e4811",
   "metadata": {},
   "source": [
    "Each transaction types are almost equal to each other.\n",
    "<br>\n",
    "*Which transaction type vs Fraud Label are higher?*"
   ]
  },
  {
   "cell_type": "markdown",
   "id": "bf660d18",
   "metadata": {},
   "source": [
    "Different types of transactions vs Fraud Label"
   ]
  },
  {
   "cell_type": "code",
   "execution_count": 7,
   "id": "648f571c",
   "metadata": {},
   "outputs": [
    {
     "name": "stdout",
     "output_type": "stream",
     "text": [
      "Fraud_Label          0     1\n",
      "Transaction_Type            \n",
      "ATM Withdrawal    8407  4046\n",
      "Bank Transfer     8457  3995\n",
      "Online            8515  4031\n",
      "POS               8554  3995\n"
     ]
    }
   ],
   "source": [
    "relation = pd.crosstab(df['Transaction_Type'], df['Fraud_Label'])\n",
    "print(relation)"
   ]
  },
  {
   "cell_type": "code",
   "execution_count": 10,
   "id": "c84de6e5",
   "metadata": {},
   "outputs": [
    {
     "name": "stdout",
     "output_type": "stream",
     "text": [
      "Fraud_Label               0          1\n",
      "Transaction_Type                      \n",
      "ATM Withdrawal    67.509837  32.490163\n",
      "Bank Transfer     67.916801  32.083199\n",
      "Online            67.870238  32.129762\n",
      "POS               68.164794  31.835206\n"
     ]
    }
   ],
   "source": [
    "fraud_rate = pd.crosstab(df['Transaction_Type'], df['Fraud_Label'], normalize='index') * 100\n",
    "print(fraud_rate)"
   ]
  },
  {
   "cell_type": "markdown",
   "id": "05366131",
   "metadata": {},
   "source": [
    "ATM, Bank Transfer and Online have more fraud label assigned as true. However, they all had similar results."
   ]
  },
  {
   "cell_type": "code",
   "execution_count": 11,
   "id": "d7ec752b",
   "metadata": {},
   "outputs": [
    {
     "data": {
      "image/png": "[encoded data removed]",
      "text/plain": [
       "<Figure size 640x480 with 1 Axes>"
      ]
     },
     "metadata": {},
     "output_type": "display_data"
    }
   ],
   "source": [
    "import seaborn as sns\n",
    "import matplotlib.pyplot as plt\n",
    "\n",
    "# Plot fraud rate by transaction type\n",
    "fraud_rate[1].sort_values(ascending=False).plot(kind='bar', color='tomato')\n",
    "plt.title('Fraud Rate by Transaction Type')\n",
    "plt.ylabel('Fraud %')\n",
    "plt.xlabel('Transaction Type')\n",
    "plt.xticks(rotation=45)\n",
    "plt.show()\n"
   ]
  },
  {
   "cell_type": "markdown",
   "id": "02da3bc3",
   "metadata": {},
   "source": [
    "*Risk Score vs Fraud Label*"
   ]
  },
  {
   "cell_type": "code",
   "execution_count": null,
   "id": "5b52a604",
   "metadata": {},
   "outputs": [
    {
     "name": "stdout",
     "output_type": "stream",
     "text": [
      "Fraud_Label    0    1\n",
      "Risk_Score           \n",
      "0.0001       5.0  1.0\n",
      "0.0002       4.0  2.0\n",
      "0.0003       4.0  0.0\n",
      "0.0004       2.0  1.0\n",
      "0.0005       3.0  3.0\n"
     ]
    }
   ],
   "source": [
    "risk_vs_fraud = df.groupby('Risk_Score')['Fraud_Label'].value_counts().unstack().fillna(0)\n",
    "print(risk_vs_fraud.head())\n"
   ]
  },
  {
   "cell_type": "code",
   "execution_count": null,
   "id": "c8465213",
   "metadata": {},
   "outputs": [],
   "source": []
  },
  {
   "cell_type": "markdown",
   "id": "0ee25c07",
   "metadata": {},
   "source": [
    "*Risk Score vs IP Flag*"
   ]
  },
  {
   "cell_type": "markdown",
   "id": "6dd11a0a",
   "metadata": {},
   "source": [
    "*IP Flag vs Fraud Label*"
   ]
  },
  {
   "cell_type": "markdown",
   "id": "099d1659",
   "metadata": {},
   "source": [
    "*How many groups of transaction (Low, Med, High)*\n"
   ]
  },
  {
   "cell_type": "markdown",
   "id": "0fdd18a1",
   "metadata": {},
   "source": [
    "*How many groups of account_balance (Low, Med, High)*"
   ]
  },
  {
   "cell_type": "markdown",
   "id": "ac7af01a",
   "metadata": {},
   "source": [
    "*Relationship between having >1 transaction from a user vs Fraud Label*\n"
   ]
  },
  {
   "cell_type": "markdown",
   "id": "78ead4a9",
   "metadata": {},
   "source": [
    "*Relationship between having >1 transaction from a user vs Risk Score*"
   ]
  },
  {
   "cell_type": "markdown",
   "id": "0d9136f2",
   "metadata": {},
   "source": [
    "*Is account balance the same after a transaction?*"
   ]
  },
  {
   "cell_type": "markdown",
   "id": "57bb7adc",
   "metadata": {},
   "source": [
    "# **We have imbalance data, what's next?**"
   ]
  },
  {
   "cell_type": "markdown",
   "id": "d21d12e6",
   "metadata": {},
   "source": [
    "# **Correlation Matrix**"
   ]
  },
  {
   "cell_type": "markdown",
   "id": "ae385cca",
   "metadata": {},
   "source": [
    "# **Z-Score**"
   ]
  }
 ],
 "metadata": {
  "kernelspec": {
   "display_name": "Python 3",
   "language": "python",
   "name": "python3"
  },
  "language_info": {
   "codemirror_mode": {
    "name": "ipython",
    "version": 3
   },
   "file_extension": ".py",
   "mimetype": "text/x-python",
   "name": "python",
   "nbconvert_exporter": "python",
   "pygments_lexer": "ipython3",
   "version": "3.9.6"
  }
 },
 "nbformat": 4,
 "nbformat_minor": 5
}
